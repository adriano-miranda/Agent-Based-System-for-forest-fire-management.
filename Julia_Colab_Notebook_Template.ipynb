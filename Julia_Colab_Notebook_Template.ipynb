{
  "nbformat": 4,
  "nbformat_minor": 0,
  "metadata": {
    "colab": {
      "provenance": []
    },
    "kernelspec": {
      "display_name": "Julia",
      "language": "julia",
      "name": "julia"
    },
    "language_info": {
      "file_extension": ".jl",
      "mimetype": "application/julia",
      "name": "julia"
    },
    "gpuClass": "standard"
  },
  "cells": [
    {
      "cell_type": "markdown",
      "metadata": {
        "id": "tQ1r1bbb0yBv"
      },
      "source": [
        "# <img src=\"https://github.com/JuliaLang/julia-logo-graphics/raw/master/images/julia-logo-color.png\" height=\"100\" /> _Colab Notebook Template_\n",
        "\n",
        "## Instructions\n",
        "1. Work on a copy of this notebook: _File_ > _Save a copy in Drive_ (you will need a Google account). Alternatively, you can download the notebook using _File_ > _Download .ipynb_, then upload it to [Colab](https://colab.research.google.com/).\n",
        "2. If you need a GPU: _Runtime_ > _Change runtime type_ > _Harware accelerator_ = _GPU_.\n",
        "3. Execute the following cell (click on it and press Ctrl+Enter) to install Julia, IJulia and other packages (if needed, update `JULIA_VERSION` and the other parameters). This takes a couple of minutes.\n",
        "4. Reload this page (press Ctrl+R, or ⌘+R, or the F5 key) and continue to the next section.\n",
        "\n",
        "_Notes_:\n",
        "* If your Colab Runtime gets reset (e.g., due to inactivity), repeat steps 2, 3 and 4.\n",
        "* After installation, if you want to change the Julia version or activate/deactivate the GPU, you will need to reset the Runtime: _Runtime_ > _Factory reset runtime_ and repeat steps 3 and 4."
      ]
    },
    {
      "cell_type": "code",
      "metadata": {
        "id": "GIeFXS0F0zww",
        "colab": {
          "base_uri": "https://localhost:8080/",
          "height": 89
        },
        "outputId": "457da903-acff-4a39-f717-11a7c0c8b925"
      },
      "source": [
        "%%shell\n",
        "set -e\n",
        "\n",
        "#---------------------------------------------------#\n",
        "JULIA_VERSION=\"1.8.2\" # any version ≥ 0.7.0\n",
        "JULIA_PACKAGES=\"IJulia BenchmarkTools\"\n",
        "JULIA_PACKAGES_IF_GPU=\"CUDA\" # or CuArrays for older Julia versions\n",
        "JULIA_NUM_THREADS=2\n",
        "#---------------------------------------------------#\n",
        "\n",
        "if [ -z `which julia` ]; then\n",
        "  # Install Julia\n",
        "  JULIA_VER=`cut -d '.' -f -2 <<< \"$JULIA_VERSION\"`\n",
        "  echo \"Installing Julia $JULIA_VERSION on the current Colab Runtime...\"\n",
        "  BASE_URL=\"https://julialang-s3.julialang.org/bin/linux/x64\"\n",
        "  URL=\"$BASE_URL/$JULIA_VER/julia-$JULIA_VERSION-linux-x86_64.tar.gz\"\n",
        "  wget -nv $URL -O /tmp/julia.tar.gz # -nv means \"not verbose\"\n",
        "  tar -x -f /tmp/julia.tar.gz -C /usr/local --strip-components 1\n",
        "  rm /tmp/julia.tar.gz\n",
        "\n",
        "  # Install Packages\n",
        "  nvidia-smi -L &> /dev/null && export GPU=1 || export GPU=0\n",
        "  if [ $GPU -eq 1 ]; then\n",
        "    JULIA_PACKAGES=\"$JULIA_PACKAGES $JULIA_PACKAGES_IF_GPU\"\n",
        "  fi\n",
        "  for PKG in `echo $JULIA_PACKAGES`; do\n",
        "    echo \"Installing Julia package $PKG...\"\n",
        "    julia -e 'using Pkg; pkg\"add '$PKG'; precompile;\"' &> /dev/null\n",
        "  done\n",
        "\n",
        "  # Install kernel and rename it to \"julia\"\n",
        "  echo \"Installing IJulia kernel...\"\n",
        "  julia -e 'using IJulia; IJulia.installkernel(\"julia\", env=Dict(\n",
        "      \"JULIA_NUM_THREADS\"=>\"'\"$JULIA_NUM_THREADS\"'\"))'\n",
        "  KERNEL_DIR=`julia -e \"using IJulia; print(IJulia.kerneldir())\"`\n",
        "  KERNEL_NAME=`ls -d \"$KERNEL_DIR\"/julia*`\n",
        "  mv -f $KERNEL_NAME \"$KERNEL_DIR\"/julia\n",
        "\n",
        "  echo ''\n",
        "  echo \"Successfully installed `julia -v`!\"\n",
        "  echo \"Please reload this page (press Ctrl+R, ⌘+R, or the F5 key) then\"\n",
        "  echo \"jump to the 'Checking the Installation' section.\"\n",
        "fi"
      ],
      "execution_count": 17,
      "outputs": [
        {
          "output_type": "display_data",
          "data": {
            "text/plain": [
              "  Unrecognized magic \u001b[36m%%shell\u001b[39m.\n",
              "\n",
              "  Julia does not use the IPython \u001b[36m%magic\u001b[39m syntax. To interact with the IJulia kernel, use\n",
              "  \u001b[36mIJulia.somefunction(...)\u001b[39m, for example. Julia macros, string macros, and functions can be used to\n",
              "  accomplish most of the other functionalities of IPython magics."
            ],
            "text/markdown": "Unrecognized magic `%%shell`.\n\nJulia does not use the IPython `%magic` syntax.   To interact with the IJulia kernel, use `IJulia.somefunction(...)`, for example.  Julia macros, string macros, and functions can be used to accomplish most of the other functionalities of IPython magics.\n",
            "text/latex": "Unrecognized magic \\texttt{\\%\\%shell}.\n\nJulia does not use the IPython \\texttt{\\%magic} syntax.   To interact with the IJulia kernel, use \\texttt{IJulia.somefunction(...)}, for example.  Julia macros, string macros, and functions can be used to accomplish most of the other functionalities of IPython magics.\n\n"
          },
          "metadata": {}
        }
      ]
    },
    {
      "cell_type": "markdown",
      "metadata": {
        "id": "-OS3Ac017T1i"
      },
      "source": [
        "# Checking the Installation\n",
        "The `versioninfo()` function should print your Julia version and some other info about the system:"
      ]
    },
    {
      "cell_type": "code",
      "metadata": {
        "id": "EEzvvzCl1i0F",
        "colab": {
          "base_uri": "https://localhost:8080/"
        },
        "outputId": "fb177b59-6fae-46f3-f036-848c333643e9"
      },
      "source": [
        "using Pkg;\n",
        "Pkg.add(\"CSV\")\n",
        "Pkg.add(\"DataFrames\")\n",
        "Pkg.add(\"UrlDownload\")"
      ],
      "execution_count": 18,
      "outputs": [
        {
          "output_type": "stream",
          "name": "stderr",
          "text": [
            "\u001b[32m\u001b[1m   Resolving\u001b[22m\u001b[39m package versions...\n",
            "\u001b[32m\u001b[1m  No Changes\u001b[22m\u001b[39m to `~/.julia/environments/v1.8/Project.toml`\n",
            "\u001b[32m\u001b[1m  No Changes\u001b[22m\u001b[39m to `~/.julia/environments/v1.8/Manifest.toml`\n",
            "\u001b[32m\u001b[1m   Resolving\u001b[22m\u001b[39m package versions...\n",
            "\u001b[32m\u001b[1m  No Changes\u001b[22m\u001b[39m to `~/.julia/environments/v1.8/Project.toml`\n",
            "\u001b[32m\u001b[1m  No Changes\u001b[22m\u001b[39m to `~/.julia/environments/v1.8/Manifest.toml`\n",
            "\u001b[32m\u001b[1m   Resolving\u001b[22m\u001b[39m package versions...\n",
            "\u001b[32m\u001b[1m  No Changes\u001b[22m\u001b[39m to `~/.julia/environments/v1.8/Project.toml`\n",
            "\u001b[32m\u001b[1m  No Changes\u001b[22m\u001b[39m to `~/.julia/environments/v1.8/Manifest.toml`\n"
          ]
        }
      ]
    },
    {
      "cell_type": "code",
      "source": [
        "using UrlDownload\n",
        "using DataFrames\n",
        "using CSV\n",
        "\n",
        "url = \"https://archive.ics.uci.edu/ml/machine-learning-databases/undocumented/connectionist-bench/sonar/sonar.all-data\"\n",
        "data = urldownload(url, true, format=:CSV, header=false) |> DataFrame\n",
        "describe(data)"
      ],
      "metadata": {
        "colab": {
          "base_uri": "https://localhost:8080/",
          "height": 644
        },
        "id": "YjM_qq54lCcs",
        "outputId": "d1defa64-0b3a-4666-d226-b4bede773e46"
      },
      "execution_count": 19,
      "outputs": [
        {
          "output_type": "execute_result",
          "data": {
            "text/plain": [
              "\u001b[1m61×7 DataFrame\u001b[0m\n",
              "\u001b[1m Row \u001b[0m│\u001b[1m variable \u001b[0m\u001b[1m mean       \u001b[0m\u001b[1m min    \u001b[0m\u001b[1m median  \u001b[0m\u001b[1m max    \u001b[0m\u001b[1m nmissing \u001b[0m\u001b[1m eltype   \u001b[0m\n",
              "     │\u001b[90m Symbol   \u001b[0m\u001b[90m Union…     \u001b[0m\u001b[90m Any    \u001b[0m\u001b[90m Union…  \u001b[0m\u001b[90m Any    \u001b[0m\u001b[90m Int64    \u001b[0m\u001b[90m DataType \u001b[0m\n",
              "─────┼───────────────────────────────────────────────────────────────────\n",
              "   1 │ Column1   0.0291639   0.0015  0.0228   0.1371         0  Float64\n",
              "   2 │ Column2   0.0384365   0.0006  0.0308   0.2339         0  Float64\n",
              "   3 │ Column3   0.0438322   0.0015  0.0343   0.3059         0  Float64\n",
              "   4 │ Column4   0.0538923   0.0058  0.04405  0.4264         0  Float64\n",
              "   5 │ Column5   0.0752024   0.0067  0.0625   0.401          0  Float64\n",
              "   6 │ Column6   0.10457     0.0102  0.09215  0.3823         0  Float64\n",
              "   7 │ Column7   0.121747    0.0033  0.10695  0.3729         0  Float64\n",
              "   8 │ Column8   0.134799    0.0055  0.1121   0.459          0  Float64\n",
              "   9 │ Column9   0.178003    0.0075  0.15225  0.6828         0  Float64\n",
              "  10 │ Column10  0.208259    0.0113  0.1824   0.7106         0  Float64\n",
              "  11 │ Column11  0.236013    0.0289  0.2248   0.7342         0  Float64\n",
              "  ⋮  │    ⋮          ⋮         ⋮        ⋮       ⋮        ⋮         ⋮\n",
              "  52 │ Column52  0.0134202   0.0008  0.0114   0.0709         0  Float64\n",
              "  53 │ Column53  0.0107091   0.0005  0.00955  0.039          0  Float64\n",
              "  54 │ Column54  0.0109409   0.001   0.0093   0.0352         0  Float64\n",
              "  55 │ Column55  0.00929038  0.0006  0.0075   0.0447         0  Float64\n",
              "  56 │ Column56  0.00822163  0.0004  0.00685  0.0394         0  Float64\n",
              "  57 │ Column57  0.00782019  0.0003  0.00595  0.0355         0  Float64\n",
              "  58 │ Column58  0.00794904  0.0003  0.0058   0.044          0  Float64\n",
              "  59 │ Column59  0.00794135  0.0001  0.0064   0.0364         0  Float64\n",
              "  60 │ Column60  0.00650721  0.0006  0.0053   0.0439         0  Float64\n",
              "  61 │ Column61 \u001b[90m            \u001b[0m M      \u001b[90m         \u001b[0m R              0  String1\n",
              "\u001b[36m                                                          40 rows omitted\u001b[0m"
            ],
            "text/html": [
              "<div><div style = \"float: left;\"><span>61×7 DataFrame</span></div><div style = \"float: right;\"><span style = \"font-style: italic;\">36 rows omitted</span></div><div style = \"clear: both;\"></div></div><div class = \"data-frame\" style = \"overflow-x: scroll;\"><table class = \"data-frame\" style = \"margin-bottom: 6px;\"><thead><tr class = \"header\"><th class = \"rowNumber\" style = \"font-weight: bold; text-align: right;\">Row</th><th style = \"text-align: left;\">variable</th><th style = \"text-align: left;\">mean</th><th style = \"text-align: left;\">min</th><th style = \"text-align: left;\">median</th><th style = \"text-align: left;\">max</th><th style = \"text-align: left;\">nmissing</th><th style = \"text-align: left;\">eltype</th></tr><tr class = \"subheader headerLastRow\"><th class = \"rowNumber\" style = \"font-weight: bold; text-align: right;\"></th><th title = \"Symbol\" style = \"text-align: left;\">Symbol</th><th title = \"Union{Nothing, Float64}\" style = \"text-align: left;\">Union…</th><th title = \"Any\" style = \"text-align: left;\">Any</th><th title = \"Union{Nothing, Float64}\" style = \"text-align: left;\">Union…</th><th title = \"Any\" style = \"text-align: left;\">Any</th><th title = \"Int64\" style = \"text-align: left;\">Int64</th><th title = \"DataType\" style = \"text-align: left;\">DataType</th></tr></thead><tbody><tr><td class = \"rowNumber\" style = \"font-weight: bold; text-align: right;\">1</td><td style = \"text-align: left;\">Column1</td><td style = \"text-align: left;\">0.0291639</td><td style = \"text-align: left;\">0.0015</td><td style = \"text-align: left;\">0.0228</td><td style = \"text-align: left;\">0.1371</td><td style = \"text-align: right;\">0</td><td style = \"text-align: left;\">Float64</td></tr><tr><td class = \"rowNumber\" style = \"font-weight: bold; text-align: right;\">2</td><td style = \"text-align: left;\">Column2</td><td style = \"text-align: left;\">0.0384365</td><td style = \"text-align: left;\">0.0006</td><td style = \"text-align: left;\">0.0308</td><td style = \"text-align: left;\">0.2339</td><td style = \"text-align: right;\">0</td><td style = \"text-align: left;\">Float64</td></tr><tr><td class = \"rowNumber\" style = \"font-weight: bold; text-align: right;\">3</td><td style = \"text-align: left;\">Column3</td><td style = \"text-align: left;\">0.0438322</td><td style = \"text-align: left;\">0.0015</td><td style = \"text-align: left;\">0.0343</td><td style = \"text-align: left;\">0.3059</td><td style = \"text-align: right;\">0</td><td style = \"text-align: left;\">Float64</td></tr><tr><td class = \"rowNumber\" style = \"font-weight: bold; text-align: right;\">4</td><td style = \"text-align: left;\">Column4</td><td style = \"text-align: left;\">0.0538923</td><td style = \"text-align: left;\">0.0058</td><td style = \"text-align: left;\">0.04405</td><td style = \"text-align: left;\">0.4264</td><td style = \"text-align: right;\">0</td><td style = \"text-align: left;\">Float64</td></tr><tr><td class = \"rowNumber\" style = \"font-weight: bold; text-align: right;\">5</td><td style = \"text-align: left;\">Column5</td><td style = \"text-align: left;\">0.0752024</td><td style = \"text-align: left;\">0.0067</td><td style = \"text-align: left;\">0.0625</td><td style = \"text-align: left;\">0.401</td><td style = \"text-align: right;\">0</td><td style = \"text-align: left;\">Float64</td></tr><tr><td class = \"rowNumber\" style = \"font-weight: bold; text-align: right;\">6</td><td style = \"text-align: left;\">Column6</td><td style = \"text-align: left;\">0.10457</td><td style = \"text-align: left;\">0.0102</td><td style = \"text-align: left;\">0.09215</td><td style = \"text-align: left;\">0.3823</td><td style = \"text-align: right;\">0</td><td style = \"text-align: left;\">Float64</td></tr><tr><td class = \"rowNumber\" style = \"font-weight: bold; text-align: right;\">7</td><td style = \"text-align: left;\">Column7</td><td style = \"text-align: left;\">0.121747</td><td style = \"text-align: left;\">0.0033</td><td style = \"text-align: left;\">0.10695</td><td style = \"text-align: left;\">0.3729</td><td style = \"text-align: right;\">0</td><td style = \"text-align: left;\">Float64</td></tr><tr><td class = \"rowNumber\" style = \"font-weight: bold; text-align: right;\">8</td><td style = \"text-align: left;\">Column8</td><td style = \"text-align: left;\">0.134799</td><td style = \"text-align: left;\">0.0055</td><td style = \"text-align: left;\">0.1121</td><td style = \"text-align: left;\">0.459</td><td style = \"text-align: right;\">0</td><td style = \"text-align: left;\">Float64</td></tr><tr><td class = \"rowNumber\" style = \"font-weight: bold; text-align: right;\">9</td><td style = \"text-align: left;\">Column9</td><td style = \"text-align: left;\">0.178003</td><td style = \"text-align: left;\">0.0075</td><td style = \"text-align: left;\">0.15225</td><td style = \"text-align: left;\">0.6828</td><td style = \"text-align: right;\">0</td><td style = \"text-align: left;\">Float64</td></tr><tr><td class = \"rowNumber\" style = \"font-weight: bold; text-align: right;\">10</td><td style = \"text-align: left;\">Column10</td><td style = \"text-align: left;\">0.208259</td><td style = \"text-align: left;\">0.0113</td><td style = \"text-align: left;\">0.1824</td><td style = \"text-align: left;\">0.7106</td><td style = \"text-align: right;\">0</td><td style = \"text-align: left;\">Float64</td></tr><tr><td class = \"rowNumber\" style = \"font-weight: bold; text-align: right;\">11</td><td style = \"text-align: left;\">Column11</td><td style = \"text-align: left;\">0.236013</td><td style = \"text-align: left;\">0.0289</td><td style = \"text-align: left;\">0.2248</td><td style = \"text-align: left;\">0.7342</td><td style = \"text-align: right;\">0</td><td style = \"text-align: left;\">Float64</td></tr><tr><td class = \"rowNumber\" style = \"font-weight: bold; text-align: right;\">12</td><td style = \"text-align: left;\">Column12</td><td style = \"text-align: left;\">0.250221</td><td style = \"text-align: left;\">0.0236</td><td style = \"text-align: left;\">0.24905</td><td style = \"text-align: left;\">0.706</td><td style = \"text-align: right;\">0</td><td style = \"text-align: left;\">Float64</td></tr><tr><td class = \"rowNumber\" style = \"font-weight: bold; text-align: right;\">13</td><td style = \"text-align: left;\">Column13</td><td style = \"text-align: left;\">0.273305</td><td style = \"text-align: left;\">0.0184</td><td style = \"text-align: left;\">0.26395</td><td style = \"text-align: left;\">0.7131</td><td style = \"text-align: right;\">0</td><td style = \"text-align: left;\">Float64</td></tr><tr><td style = \"text-align: right;\">&vellip;</td><td style = \"text-align: right;\">&vellip;</td><td style = \"text-align: right;\">&vellip;</td><td style = \"text-align: right;\">&vellip;</td><td style = \"text-align: right;\">&vellip;</td><td style = \"text-align: right;\">&vellip;</td><td style = \"text-align: right;\">&vellip;</td><td style = \"text-align: right;\">&vellip;</td></tr><tr><td class = \"rowNumber\" style = \"font-weight: bold; text-align: right;\">50</td><td style = \"text-align: left;\">Column50</td><td style = \"text-align: left;\">0.020424</td><td style = \"text-align: left;\">0.0</td><td style = \"text-align: left;\">0.0179</td><td style = \"text-align: left;\">0.0825</td><td style = \"text-align: right;\">0</td><td style = \"text-align: left;\">Float64</td></tr><tr><td class = \"rowNumber\" style = \"font-weight: bold; text-align: right;\">51</td><td style = \"text-align: left;\">Column51</td><td style = \"text-align: left;\">0.0160687</td><td style = \"text-align: left;\">0.0</td><td style = \"text-align: left;\">0.0139</td><td style = \"text-align: left;\">0.1004</td><td style = \"text-align: right;\">0</td><td style = \"text-align: left;\">Float64</td></tr><tr><td class = \"rowNumber\" style = \"font-weight: bold; text-align: right;\">52</td><td style = \"text-align: left;\">Column52</td><td style = \"text-align: left;\">0.0134202</td><td style = \"text-align: left;\">0.0008</td><td style = \"text-align: left;\">0.0114</td><td style = \"text-align: left;\">0.0709</td><td style = \"text-align: right;\">0</td><td style = \"text-align: left;\">Float64</td></tr><tr><td class = \"rowNumber\" style = \"font-weight: bold; text-align: right;\">53</td><td style = \"text-align: left;\">Column53</td><td style = \"text-align: left;\">0.0107091</td><td style = \"text-align: left;\">0.0005</td><td style = \"text-align: left;\">0.00955</td><td style = \"text-align: left;\">0.039</td><td style = \"text-align: right;\">0</td><td style = \"text-align: left;\">Float64</td></tr><tr><td class = \"rowNumber\" style = \"font-weight: bold; text-align: right;\">54</td><td style = \"text-align: left;\">Column54</td><td style = \"text-align: left;\">0.0109409</td><td style = \"text-align: left;\">0.001</td><td style = \"text-align: left;\">0.0093</td><td style = \"text-align: left;\">0.0352</td><td style = \"text-align: right;\">0</td><td style = \"text-align: left;\">Float64</td></tr><tr><td class = \"rowNumber\" style = \"font-weight: bold; text-align: right;\">55</td><td style = \"text-align: left;\">Column55</td><td style = \"text-align: left;\">0.00929038</td><td style = \"text-align: left;\">0.0006</td><td style = \"text-align: left;\">0.0075</td><td style = \"text-align: left;\">0.0447</td><td style = \"text-align: right;\">0</td><td style = \"text-align: left;\">Float64</td></tr><tr><td class = \"rowNumber\" style = \"font-weight: bold; text-align: right;\">56</td><td style = \"text-align: left;\">Column56</td><td style = \"text-align: left;\">0.00822163</td><td style = \"text-align: left;\">0.0004</td><td style = \"text-align: left;\">0.00685</td><td style = \"text-align: left;\">0.0394</td><td style = \"text-align: right;\">0</td><td style = \"text-align: left;\">Float64</td></tr><tr><td class = \"rowNumber\" style = \"font-weight: bold; text-align: right;\">57</td><td style = \"text-align: left;\">Column57</td><td style = \"text-align: left;\">0.00782019</td><td style = \"text-align: left;\">0.0003</td><td style = \"text-align: left;\">0.00595</td><td style = \"text-align: left;\">0.0355</td><td style = \"text-align: right;\">0</td><td style = \"text-align: left;\">Float64</td></tr><tr><td class = \"rowNumber\" style = \"font-weight: bold; text-align: right;\">58</td><td style = \"text-align: left;\">Column58</td><td style = \"text-align: left;\">0.00794904</td><td style = \"text-align: left;\">0.0003</td><td style = \"text-align: left;\">0.0058</td><td style = \"text-align: left;\">0.044</td><td style = \"text-align: right;\">0</td><td style = \"text-align: left;\">Float64</td></tr><tr><td class = \"rowNumber\" style = \"font-weight: bold; text-align: right;\">59</td><td style = \"text-align: left;\">Column59</td><td style = \"text-align: left;\">0.00794135</td><td style = \"text-align: left;\">0.0001</td><td style = \"text-align: left;\">0.0064</td><td style = \"text-align: left;\">0.0364</td><td style = \"text-align: right;\">0</td><td style = \"text-align: left;\">Float64</td></tr><tr><td class = \"rowNumber\" style = \"font-weight: bold; text-align: right;\">60</td><td style = \"text-align: left;\">Column60</td><td style = \"text-align: left;\">0.00650721</td><td style = \"text-align: left;\">0.0006</td><td style = \"text-align: left;\">0.0053</td><td style = \"text-align: left;\">0.0439</td><td style = \"text-align: right;\">0</td><td style = \"text-align: left;\">Float64</td></tr><tr><td class = \"rowNumber\" style = \"font-weight: bold; text-align: right;\">61</td><td style = \"text-align: left;\">Column61</td><td style = \"font-style: italic; text-align: left;\"></td><td style = \"text-align: left;\">M</td><td style = \"font-style: italic; text-align: left;\"></td><td style = \"text-align: left;\">R</td><td style = \"text-align: right;\">0</td><td style = \"text-align: left;\">String1</td></tr></tbody></table></div>"
            ],
            "text/latex": "\\begin{tabular}{r|ccccccc}\n\t& variable & mean & min & median & max & nmissing & eltype\\\\\n\t\\hline\n\t& Symbol & Union… & Any & Union… & Any & Int64 & DataType\\\\\n\t\\hline\n\t1 & Column1 & 0.0291639 & 0.0015 & 0.0228 & 0.1371 & 0 & Float64 \\\\\n\t2 & Column2 & 0.0384365 & 0.0006 & 0.0308 & 0.2339 & 0 & Float64 \\\\\n\t3 & Column3 & 0.0438322 & 0.0015 & 0.0343 & 0.3059 & 0 & Float64 \\\\\n\t4 & Column4 & 0.0538923 & 0.0058 & 0.04405 & 0.4264 & 0 & Float64 \\\\\n\t5 & Column5 & 0.0752024 & 0.0067 & 0.0625 & 0.401 & 0 & Float64 \\\\\n\t6 & Column6 & 0.10457 & 0.0102 & 0.09215 & 0.3823 & 0 & Float64 \\\\\n\t7 & Column7 & 0.121747 & 0.0033 & 0.10695 & 0.3729 & 0 & Float64 \\\\\n\t8 & Column8 & 0.134799 & 0.0055 & 0.1121 & 0.459 & 0 & Float64 \\\\\n\t9 & Column9 & 0.178003 & 0.0075 & 0.15225 & 0.6828 & 0 & Float64 \\\\\n\t10 & Column10 & 0.208259 & 0.0113 & 0.1824 & 0.7106 & 0 & Float64 \\\\\n\t11 & Column11 & 0.236013 & 0.0289 & 0.2248 & 0.7342 & 0 & Float64 \\\\\n\t12 & Column12 & 0.250221 & 0.0236 & 0.24905 & 0.706 & 0 & Float64 \\\\\n\t13 & Column13 & 0.273305 & 0.0184 & 0.26395 & 0.7131 & 0 & Float64 \\\\\n\t14 & Column14 & 0.296568 & 0.0273 & 0.2811 & 0.997 & 0 & Float64 \\\\\n\t15 & Column15 & 0.320201 & 0.0031 & 0.2817 & 1.0 & 0 & Float64 \\\\\n\t16 & Column16 & 0.378487 & 0.0162 & 0.3047 & 0.9988 & 0 & Float64 \\\\\n\t17 & Column17 & 0.415983 & 0.0349 & 0.3084 & 1.0 & 0 & Float64 \\\\\n\t18 & Column18 & 0.452318 & 0.0375 & 0.3683 & 1.0 & 0 & Float64 \\\\\n\t19 & Column19 & 0.504812 & 0.0494 & 0.43495 & 1.0 & 0 & Float64 \\\\\n\t20 & Column20 & 0.563047 & 0.0656 & 0.5425 & 1.0 & 0 & Float64 \\\\\n\t21 & Column21 & 0.60906 & 0.0512 & 0.6177 & 1.0 & 0 & Float64 \\\\\n\t22 & Column22 & 0.624275 & 0.0219 & 0.6649 & 1.0 & 0 & Float64 \\\\\n\t23 & Column23 & 0.646975 & 0.0563 & 0.6997 & 1.0 & 0 & Float64 \\\\\n\t24 & Column24 & 0.672654 & 0.0239 & 0.6985 & 1.0 & 0 & Float64 \\\\\n\t25 & Column25 & 0.675424 & 0.024 & 0.7211 & 1.0 & 0 & Float64 \\\\\n\t26 & Column26 & 0.699866 & 0.0921 & 0.7545 & 1.0 & 0 & Float64 \\\\\n\t27 & Column27 & 0.702155 & 0.0481 & 0.7456 & 1.0 & 0 & Float64 \\\\\n\t28 & Column28 & 0.694024 & 0.0284 & 0.7319 & 1.0 & 0 & Float64 \\\\\n\t29 & Column29 & 0.642074 & 0.0144 & 0.6808 & 1.0 & 0 & Float64 \\\\\n\t30 & Column30 & 0.580928 & 0.0613 & 0.60715 & 1.0 & 0 & Float64 \\\\\n\t$\\dots$ & $\\dots$ & $\\dots$ & $\\dots$ & $\\dots$ & $\\dots$ & $\\dots$ & $\\dots$ \\\\\n\\end{tabular}\n"
          },
          "metadata": {},
          "execution_count": 19
        }
      ]
    },
    {
      "cell_type": "code",
      "metadata": {
        "id": "XciCcMAJOT3_",
        "colab": {
          "base_uri": "https://localhost:8080/"
        },
        "outputId": "b80dabc4-7e3c-4d20-c7a7-aa448a5fabbd"
      },
      "source": [
        "using DataFrames\n",
        "using CSV\n",
        "\n",
        "# Display the DataFrame\n",
        "show(data, allrows=true)"
      ],
      "execution_count": 20,
      "outputs": [
        {
          "output_type": "stream",
          "name": "stdout",
          "text": [
            "\u001b[1m208×61 DataFrame\u001b[0m\n",
            "\u001b[1m Row \u001b[0m│\u001b[1m Column1 \u001b[0m\u001b[1m Column2 \u001b[0m\u001b[1m Column3 \u001b[0m\u001b[1m Column4 \u001b[0m\u001b[1m Column5 \u001b[0m\u001b[1m Column6 \u001b[0m\u001b[1m Column7 \u001b[0m\u001b[1m Column8 \u001b[0m\u001b[1m Column9 \u001b[0m\u001b[1m Column10 \u001b[0m\u001b[1m \u001b[0m ⋯\n",
            "     │\u001b[90m Float64 \u001b[0m\u001b[90m Float64 \u001b[0m\u001b[90m Float64 \u001b[0m\u001b[90m Float64 \u001b[0m\u001b[90m Float64 \u001b[0m\u001b[90m Float64 \u001b[0m\u001b[90m Float64 \u001b[0m\u001b[90m Float64 \u001b[0m\u001b[90m Float64 \u001b[0m\u001b[90m Float64  \u001b[0m\u001b[90m \u001b[0m ⋯\n",
            "─────┼──────────────────────────────────────────────────────────────────────────────────────────────\n",
            "   1 │  0.02     0.0371   0.0428   0.0207   0.0954   0.0986   0.1539   0.1601   0.3109    0.2111   ⋯\n",
            "   2 │  0.0453   0.0523   0.0843   0.0689   0.1183   0.2583   0.2156   0.3481   0.3337    0.2872\n",
            "   3 │  0.0262   0.0582   0.1099   0.1083   0.0974   0.228    0.2431   0.3771   0.5598    0.6194\n",
            "   4 │  0.01     0.0171   0.0623   0.0205   0.0205   0.0368   0.1098   0.1276   0.0598    0.1264\n",
            "   5 │  0.0762   0.0666   0.0481   0.0394   0.059    0.0649   0.1209   0.2467   0.3564    0.4459   ⋯\n",
            "   6 │  0.0286   0.0453   0.0277   0.0174   0.0384   0.099    0.1201   0.1833   0.2105    0.3039\n",
            "   7 │  0.0317   0.0956   0.1321   0.1408   0.1674   0.171    0.0731   0.1401   0.2083    0.3513\n",
            "   8 │  0.0519   0.0548   0.0842   0.0319   0.1158   0.0922   0.1027   0.0613   0.1465    0.2838\n",
            "   9 │  0.0223   0.0375   0.0484   0.0475   0.0647   0.0591   0.0753   0.0098   0.0684    0.1487   ⋯\n",
            "  10 │  0.0164   0.0173   0.0347   0.007    0.0187   0.0671   0.1056   0.0697   0.0962    0.0251\n",
            "  11 │  0.0039   0.0063   0.0152   0.0336   0.031    0.0284   0.0396   0.0272   0.0323    0.0452\n",
            "  12 │  0.0123   0.0309   0.0169   0.0313   0.0358   0.0102   0.0182   0.0579   0.1122    0.0835\n",
            "  13 │  0.0079   0.0086   0.0055   0.025    0.0344   0.0546   0.0528   0.0958   0.1009    0.124    ⋯\n",
            "  14 │  0.009    0.0062   0.0253   0.0489   0.1197   0.1589   0.1392   0.0987   0.0955    0.1895\n",
            "  15 │  0.0124   0.0433   0.0604   0.0449   0.0597   0.0355   0.0531   0.0343   0.1052    0.212\n",
            "  16 │  0.0298   0.0615   0.065    0.0921   0.1615   0.2294   0.2176   0.2033   0.1459    0.0852\n",
            "  17 │  0.0352   0.0116   0.0191   0.0469   0.0737   0.1185   0.1683   0.1541   0.1466    0.2912   ⋯\n",
            "  18 │  0.0192   0.0607   0.0378   0.0774   0.1388   0.0809   0.0568   0.0219   0.1037    0.1186\n",
            "  19 │  0.027    0.0092   0.0145   0.0278   0.0412   0.0757   0.1026   0.1138   0.0794    0.152\n",
            "  20 │  0.0126   0.0149   0.0641   0.1732   0.2565   0.2559   0.2947   0.411    0.4983    0.592\n",
            "  21 │  0.0473   0.0509   0.0819   0.1252   0.1783   0.307    0.3008   0.2362   0.383     0.3759   ⋯\n",
            "  22 │  0.0664   0.0575   0.0842   0.0372   0.0458   0.0771   0.0771   0.113    0.2353    0.1838\n",
            "  23 │  0.0099   0.0484   0.0299   0.0297   0.0652   0.1077   0.2363   0.2385   0.0075    0.1882\n",
            "  24 │  0.0115   0.015    0.0136   0.0076   0.0211   0.1058   0.1023   0.044    0.0931    0.0734\n",
            "  25 │  0.0293   0.0644   0.039    0.0173   0.0476   0.0816   0.0993   0.0315   0.0736    0.086    ⋯\n",
            "  26 │  0.0201   0.0026   0.0138   0.0062   0.0133   0.0151   0.0541   0.021    0.0505    0.1097\n",
            "  27 │  0.0151   0.032    0.0599   0.105    0.1163   0.1734   0.1679   0.1119   0.0889    0.1205\n",
            "  28 │  0.0177   0.03     0.0288   0.0394   0.063    0.0526   0.0688   0.0633   0.0624    0.0613\n",
            "  29 │  0.01     0.0275   0.019    0.0371   0.0416   0.0201   0.0314   0.0651   0.1896    0.2668   ⋯\n",
            "  30 │  0.0189   0.0308   0.0197   0.0622   0.008    0.0789   0.144    0.1451   0.1789    0.2522\n",
            "  31 │  0.024    0.0218   0.0324   0.0569   0.033    0.0513   0.0897   0.0713   0.0569    0.0389\n",
            "  32 │  0.0084   0.0153   0.0291   0.0432   0.0951   0.0752   0.0414   0.0259   0.0692    0.1753\n",
            "  33 │  0.0195   0.0213   0.0058   0.019    0.0319   0.0571   0.1004   0.0668   0.0691    0.0242   ⋯\n",
            "  34 │  0.0442   0.0477   0.0049   0.0581   0.0278   0.0678   0.1664   0.149    0.0974    0.1268\n",
            "  35 │  0.0311   0.0491   0.0692   0.0831   0.0079   0.02     0.0981   0.1016   0.2025    0.0767\n",
            "  36 │  0.0206   0.0132   0.0533   0.0569   0.0647   0.1432   0.1344   0.2041   0.1571    0.1573\n",
            "  37 │  0.0094   0.0166   0.0398   0.0359   0.0681   0.0706   0.102    0.0893   0.0381    0.1328   ⋯\n",
            "  38 │  0.0333   0.0221   0.027    0.0481   0.0679   0.0981   0.0843   0.1172   0.0759    0.092\n",
            "  39 │  0.0123   0.0022   0.0196   0.0206   0.018    0.0492   0.0033   0.0398   0.0791    0.0475\n",
            "  40 │  0.0091   0.0213   0.0206   0.0505   0.0657   0.0795   0.097    0.0872   0.0743    0.0837\n",
            "  41 │  0.0068   0.0232   0.0513   0.0444   0.0249   0.0637   0.0422   0.113    0.1911    0.2475   ⋯\n",
            "  42 │  0.0093   0.0185   0.0056   0.0064   0.026    0.0458   0.047    0.0057   0.0425    0.064\n",
            "  43 │  0.0211   0.0319   0.0415   0.0286   0.0121   0.0438   0.1299   0.139    0.0695    0.0568\n",
            "  44 │  0.0093   0.0269   0.0217   0.0339   0.0305   0.1172   0.145    0.0638   0.074     0.136\n",
            "  45 │  0.0257   0.0447   0.0388   0.0239   0.1315   0.1323   0.1608   0.2145   0.0847    0.0561   ⋯\n",
            "  46 │  0.0408   0.0653   0.0397   0.0604   0.0496   0.1817   0.1178   0.1024   0.0583    0.2176\n",
            "  47 │  0.0308   0.0339   0.0202   0.0889   0.157    0.175    0.092    0.1353   0.1593    0.2795\n",
            "  48 │  0.0373   0.0281   0.0232   0.0225   0.0179   0.0733   0.0841   0.1031   0.0993    0.0802\n",
            "  49 │  0.019    0.0038   0.0642   0.0452   0.0333   0.069    0.0901   0.1454   0.074     0.0349   ⋯\n",
            "  50 │  0.0119   0.0582   0.0623   0.06     0.1397   0.1883   0.1422   0.1447   0.0487    0.0864\n",
            "  51 │  0.0353   0.0713   0.0326   0.0272   0.037    0.0792   0.1083   0.0687   0.0298    0.088\n",
            "  52 │  0.0131   0.0068   0.0308   0.0311   0.0085   0.0767   0.0771   0.064    0.0726    0.0901\n",
            "  53 │  0.0087   0.0046   0.0081   0.023    0.0586   0.0682   0.0993   0.0717   0.0576    0.0818   ⋯\n",
            "  54 │  0.0293   0.0378   0.0257   0.0062   0.013    0.0612   0.0895   0.1107   0.0973    0.0751\n",
            "  55 │  0.0132   0.008    0.0188   0.0141   0.0436   0.0668   0.0609   0.0131   0.0899    0.0922\n",
            "  56 │  0.0201   0.0116   0.0123   0.0245   0.0547   0.0208   0.0891   0.0836   0.1335    0.1199\n",
            "  57 │  0.0152   0.0102   0.0113   0.0263   0.0097   0.0391   0.0857   0.0915   0.0949    0.1504   ⋯\n",
            "  58 │  0.0216   0.0124   0.0174   0.0152   0.0608   0.1026   0.1139   0.0877   0.116     0.0866\n",
            "  59 │  0.0225   0.0019   0.0075   0.0097   0.0445   0.0906   0.0889   0.0655   0.1624    0.1452\n",
            "  60 │  0.0125   0.0152   0.0218   0.0175   0.0362   0.0696   0.0873   0.0616   0.1252    0.1302\n",
            "  61 │  0.013    0.0006   0.0088   0.0456   0.0525   0.0778   0.0931   0.0941   0.1711    0.1483   ⋯\n",
            "  62 │  0.0135   0.0045   0.0051   0.0289   0.0561   0.0929   0.1031   0.0883   0.1596    0.1908\n",
            "  63 │  0.0086   0.0215   0.0242   0.0445   0.0667   0.0771   0.0499   0.0906   0.1229    0.1185\n",
            "  64 │  0.0067   0.0096   0.0024   0.0058   0.0197   0.0618   0.0432   0.0951   0.0836    0.118\n",
            "  65 │  0.0071   0.0103   0.0135   0.0494   0.0253   0.0806   0.0701   0.0738   0.0117    0.0898   ⋯\n",
            "  66 │  0.0176   0.0172   0.0501   0.0285   0.0262   0.0351   0.0362   0.0535   0.0258    0.0474\n",
            "  67 │  0.0265   0.044    0.0137   0.0084   0.0305   0.0438   0.0341   0.078    0.0844    0.0779\n",
            "  68 │  0.0368   0.0403   0.0317   0.0293   0.082    0.1342   0.1161   0.0663   0.0155    0.0506\n",
            "  69 │  0.0195   0.0142   0.0181   0.0406   0.0391   0.0249   0.0892   0.0973   0.084     0.1191   ⋯\n",
            "  70 │  0.0216   0.0215   0.0273   0.0139   0.0357   0.0785   0.0906   0.0908   0.1151    0.0973\n",
            "  71 │  0.0065   0.0122   0.0068   0.0108   0.0217   0.0284   0.0527   0.0575   0.1054    0.1109\n",
            "  72 │  0.0036   0.0078   0.0092   0.0387   0.053    0.1197   0.1243   0.1026   0.1239    0.0888\n",
            "  73 │  0.0208   0.0186   0.0131   0.0211   0.061    0.0613   0.0612   0.0506   0.0989    0.1093   ⋯\n",
            "  74 │  0.0139   0.0222   0.0089   0.0108   0.0215   0.0136   0.0659   0.0954   0.0786    0.1015\n",
            "  75 │  0.0109   0.0093   0.0121   0.0378   0.0679   0.0863   0.1004   0.0664   0.0941    0.1036\n",
            "  76 │  0.0202   0.0104   0.0325   0.0239   0.0807   0.1529   0.1154   0.0608   0.1317    0.137\n",
            "  77 │  0.0239   0.0189   0.0466   0.044    0.0657   0.0742   0.138    0.1099   0.1384    0.1376   ⋯\n",
            "  78 │  0.0336   0.0294   0.0476   0.0539   0.0794   0.0804   0.1136   0.1228   0.1235    0.0842\n",
            "  79 │  0.0231   0.0351   0.003    0.0304   0.0339   0.086    0.1738   0.1351   0.1063    0.0347\n",
            "  80 │  0.0108   0.0086   0.0058   0.046    0.0752   0.0887   0.1015   0.0494   0.0472    0.0393\n",
            "  81 │  0.0229   0.0369   0.004    0.0375   0.0455   0.1452   0.2211   0.1188   0.075     0.1631   ⋯\n",
            "  82 │  0.01     0.0194   0.0155   0.0489   0.0839   0.1009   0.1627   0.2071   0.2696    0.299\n",
            "  83 │  0.0409   0.0421   0.0573   0.013    0.0183   0.1019   0.1054   0.107    0.2302    0.2259\n",
            "  84 │  0.0217   0.034    0.0392   0.0236   0.1081   0.1164   0.1398   0.1009   0.1147    0.1777\n",
            "  85 │  0.0378   0.0318   0.0423   0.035    0.1787   0.1635   0.0887   0.0817   0.1779    0.2053   ⋯\n",
            "  86 │  0.0365   0.1632   0.1636   0.1421   0.113    0.1306   0.2112   0.2268   0.2992    0.3735\n",
            "  87 │  0.0188   0.037    0.0953   0.0824   0.0249   0.0488   0.1424   0.1972   0.1873    0.1806\n",
            "  88 │  0.0856   0.0454   0.0382   0.0203   0.0385   0.0534   0.214    0.311    0.2837    0.2751\n",
            "  89 │  0.0274   0.0242   0.0621   0.056    0.1129   0.0973   0.1823   0.1745   0.144     0.1808   ⋯\n",
            "  90 │  0.0235   0.0291   0.0749   0.0519   0.0227   0.0834   0.0677   0.2002   0.2876    0.3674\n",
            "  91 │  0.0126   0.0519   0.0621   0.0518   0.1072   0.2587   0.2304   0.2067   0.3416    0.4284\n",
            "  92 │  0.0253   0.0808   0.0507   0.0244   0.1724   0.3823   0.3729   0.3583   0.3429    0.2197\n",
            "  93 │  0.026    0.0192   0.0254   0.0061   0.0352   0.0701   0.1263   0.108    0.1523    0.163    ⋯\n",
            "  94 │  0.0459   0.0437   0.0347   0.0456   0.0067   0.089    0.1798   0.1741   0.1598    0.1408\n",
            "  95 │  0.0025   0.0309   0.0171   0.0228   0.0434   0.1224   0.1947   0.1661   0.1368    0.143\n",
            "  96 │  0.0291   0.04     0.0771   0.0809   0.0521   0.1051   0.0145   0.0674   0.1294    0.1146\n",
            "  97 │  0.0181   0.0146   0.0026   0.0141   0.0421   0.0473   0.0361   0.0741   0.1398    0.1045   ⋯\n",
            "  98 │  0.0491   0.0279   0.0592   0.127    0.1772   0.1908   0.2217   0.0768   0.1246    0.2028\n",
            "  99 │  0.1313   0.2339   0.3059   0.4264   0.401    0.1791   0.1853   0.0055   0.1929    0.2231\n",
            " 100 │  0.0201   0.0423   0.0554   0.0783   0.062    0.0871   0.1201   0.2707   0.1206    0.0279\n",
            " 101 │  0.0629   0.1065   0.1526   0.1229   0.1437   0.119    0.0884   0.0907   0.2107    0.3597   ⋯\n",
            " 102 │  0.0335   0.0134   0.0696   0.118    0.0348   0.118    0.1948   0.1607   0.3036    0.4372\n",
            " 103 │  0.0587   0.121    0.1268   0.1498   0.1436   0.0561   0.0832   0.0672   0.1372    0.2352\n",
            " 104 │  0.0162   0.0253   0.0262   0.0386   0.0645   0.0472   0.1056   0.1388   0.0598    0.1334\n",
            " 105 │  0.0307   0.0523   0.0653   0.0521   0.0611   0.0577   0.0665   0.0664   0.146     0.2792   ⋯\n",
            " 106 │  0.0116   0.0179   0.0449   0.1096   0.1913   0.0924   0.0761   0.1092   0.0757    0.1006\n",
            " 107 │  0.0331   0.0423   0.0474   0.0818   0.0835   0.0756   0.0374   0.0961   0.0548    0.0193\n",
            " 108 │  0.0428   0.0555   0.0708   0.0618   0.1215   0.1524   0.1543   0.0391   0.061     0.0113\n",
            " 109 │  0.0599   0.0474   0.0498   0.0387   0.1026   0.0773   0.0853   0.0447   0.1094    0.0351   ⋯\n",
            " 110 │  0.0264   0.0071   0.0342   0.0793   0.1043   0.0783   0.1417   0.1176   0.0453    0.0945\n",
            " 111 │  0.021    0.0121   0.0203   0.1036   0.1675   0.0418   0.0723   0.0828   0.0494    0.0686\n",
            " 112 │  0.053    0.0885   0.1997   0.2604   0.3225   0.2247   0.0617   0.2287   0.095     0.074\n",
            " 113 │  0.0454   0.0472   0.0697   0.1021   0.1397   0.1493   0.1487   0.0771   0.1171    0.1675   ⋯\n",
            " 114 │  0.0283   0.0599   0.0656   0.0229   0.0839   0.1673   0.1154   0.1098   0.137     0.1767\n",
            " 115 │  0.0114   0.0222   0.0269   0.0384   0.1217   0.2062   0.1489   0.0929   0.135     0.1799\n",
            " 116 │  0.0414   0.0436   0.0447   0.0844   0.0419   0.1215   0.2002   0.1516   0.0818    0.1975\n",
            " 117 │  0.0094   0.0333   0.0306   0.0376   0.1296   0.1795   0.1909   0.1692   0.187     0.1725   ⋯\n",
            " 118 │  0.0228   0.0106   0.013    0.0842   0.1117   0.1506   0.1776   0.0997   0.1428    0.2227\n",
            " 119 │  0.0363   0.0478   0.0298   0.021    0.1409   0.1916   0.1349   0.1613   0.1703    0.1444\n",
            " 120 │  0.0261   0.0266   0.0223   0.0749   0.1364   0.1513   0.1316   0.1654   0.1864    0.2013\n",
            " 121 │  0.0346   0.0509   0.0079   0.0243   0.0432   0.0735   0.0938   0.1134   0.1228    0.1508   ⋯\n",
            " 122 │  0.0162   0.0041   0.0239   0.0441   0.063    0.0921   0.1368   0.1078   0.1552    0.1779\n",
            " 123 │  0.0249   0.0119   0.0277   0.076    0.1218   0.1538   0.1192   0.1229   0.2119    0.2531\n",
            " 124 │  0.027    0.0163   0.0341   0.0247   0.0822   0.1256   0.1323   0.1584   0.2017    0.2122\n",
            " 125 │  0.0388   0.0324   0.0688   0.0898   0.1267   0.1515   0.2134   0.2613   0.2832    0.2718   ⋯\n",
            " 126 │  0.0228   0.0853   0.1      0.0428   0.1117   0.1651   0.1597   0.2116   0.3295    0.3517\n",
            " 127 │  0.0715   0.0849   0.0587   0.0218   0.0862   0.1801   0.1916   0.1896   0.296     0.4186\n",
            " 128 │  0.0209   0.0261   0.012    0.0768   0.1064   0.168    0.3016   0.346    0.3314    0.4125\n",
            " 129 │  0.0374   0.0586   0.0628   0.0534   0.0255   0.1422   0.2072   0.2734   0.307     0.2597   ⋯\n",
            " 130 │  0.1371   0.1226   0.1385   0.1484   0.1776   0.1428   0.1773   0.2161   0.163     0.2067\n",
            " 131 │  0.0443   0.0446   0.0235   0.1008   0.2252   0.2611   0.2061   0.1668   0.1801    0.3083\n",
            " 132 │  0.115    0.1163   0.0866   0.0358   0.0232   0.1267   0.2417   0.2661   0.4346    0.5378\n",
            " 133 │  0.0968   0.0821   0.0629   0.0608   0.0617   0.1207   0.0944   0.4223   0.5744    0.5025   ⋯\n",
            " 134 │  0.079    0.0707   0.0352   0.166    0.133    0.0226   0.0771   0.2678   0.5664    0.6609\n",
            " 135 │  0.1083   0.107    0.0257   0.0837   0.0748   0.1125   0.3322   0.459    0.5526    0.5966\n",
            " 136 │  0.0094   0.0611   0.1136   0.1203   0.0403   0.1227   0.2495   0.4566   0.6587    0.5079\n",
            " 137 │  0.1088   0.1278   0.0926   0.1234   0.1276   0.1731   0.1948   0.4262   0.6828    0.5761   ⋯\n",
            " 138 │  0.043    0.0902   0.0833   0.0813   0.0165   0.0277   0.0569   0.2057   0.3887    0.7106\n",
            " 139 │  0.0731   0.1249   0.1665   0.1496   0.1443   0.277    0.2555   0.1712   0.0466    0.1114\n",
            " 140 │  0.0164   0.0627   0.0738   0.0608   0.0233   0.1048   0.1338   0.0644   0.1522    0.078\n",
            " 141 │  0.0412   0.1135   0.0518   0.0232   0.0646   0.1124   0.1787   0.2407   0.2682    0.2058   ⋯\n",
            " 142 │  0.0707   0.1252   0.1447   0.1644   0.1693   0.0844   0.0715   0.0947   0.1583    0.1247\n",
            " 143 │  0.0526   0.0563   0.1219   0.1206   0.0246   0.1022   0.0539   0.0439   0.2291    0.1632\n",
            " 144 │  0.0516   0.0944   0.0622   0.0415   0.0995   0.2431   0.1777   0.2018   0.2611    0.1294\n",
            " 145 │  0.0299   0.0688   0.0992   0.1021   0.08     0.0629   0.013    0.0813   0.1761    0.0998   ⋯\n",
            " 146 │  0.0721   0.1574   0.1112   0.1085   0.0666   0.18     0.1108   0.2794   0.1408    0.0795\n",
            " 147 │  0.1021   0.083    0.0577   0.0627   0.0635   0.1328   0.0988   0.1787   0.1199    0.1369\n",
            " 148 │  0.0654   0.0649   0.0737   0.1132   0.2482   0.1257   0.1797   0.0989   0.246     0.3422\n",
            " 149 │  0.0712   0.0901   0.1276   0.1497   0.1284   0.1165   0.1285   0.1684   0.183     0.2127   ⋯\n",
            " 150 │  0.0207   0.0535   0.0334   0.0818   0.074    0.0324   0.0918   0.107    0.1553    0.1234\n",
            " 151 │  0.0209   0.0278   0.0115   0.0445   0.0427   0.0766   0.1458   0.143    0.1894    0.1853\n",
            " 152 │  0.0231   0.0315   0.017    0.0226   0.041    0.0116   0.0223   0.0805   0.2365    0.2461\n",
            " 153 │  0.0131   0.0201   0.0045   0.0217   0.023    0.0481   0.0742   0.0333   0.1369    0.2079   ⋯\n",
            " 154 │  0.0233   0.0394   0.0416   0.0547   0.0993   0.1515   0.1674   0.1513   0.1723    0.2078\n",
            " 155 │  0.0117   0.0069   0.0279   0.0583   0.0915   0.1267   0.1577   0.1927   0.2361    0.2169\n",
            " 156 │  0.0211   0.0128   0.0015   0.045    0.0711   0.1563   0.1518   0.1206   0.1666    0.1345\n",
            " 157 │  0.0047   0.0059   0.008    0.0554   0.0883   0.1278   0.1674   0.1373   0.2922    0.3469   ⋯\n",
            " 158 │  0.0201   0.0178   0.0274   0.0232   0.0724   0.0833   0.1232   0.1298   0.2085    0.272\n",
            " 159 │  0.0107   0.0453   0.0289   0.0713   0.1075   0.1019   0.1606   0.2119   0.3061    0.2936\n",
            " 160 │  0.0235   0.022    0.0167   0.0516   0.0746   0.1121   0.1258   0.1717   0.3074    0.3199\n",
            " 161 │  0.0258   0.0433   0.0547   0.0681   0.0784   0.125    0.1296   0.1729   0.2794    0.2954   ⋯\n",
            " 162 │  0.0305   0.0363   0.0214   0.0227   0.0456   0.0665   0.0939   0.0972   0.2535    0.3127\n",
            " 163 │  0.0217   0.0152   0.0346   0.0346   0.0484   0.0526   0.0773   0.0862   0.1451    0.211\n",
            " 164 │  0.0072   0.0027   0.0089   0.0061   0.042    0.0865   0.1182   0.0999   0.1976    0.2318\n",
            " 165 │  0.0163   0.0198   0.0202   0.0386   0.0752   0.1444   0.1487   0.1484   0.2442    0.2822   ⋯\n",
            " 166 │  0.0221   0.0065   0.0164   0.0487   0.0519   0.0849   0.0812   0.1833   0.2228    0.181\n",
            " 167 │  0.0411   0.0277   0.0604   0.0525   0.0489   0.0385   0.0611   0.1117   0.1237    0.23\n",
            " 168 │  0.0137   0.0297   0.0116   0.0082   0.0241   0.0253   0.0279   0.013    0.0489    0.0874\n",
            " 169 │  0.0015   0.0186   0.0289   0.0195   0.0515   0.0817   0.1005   0.0124   0.1168    0.1476   ⋯\n",
            " 170 │  0.013    0.012    0.0436   0.0624   0.0428   0.0349   0.0384   0.0446   0.1318    0.1375\n",
            " 171 │  0.0134   0.0172   0.0178   0.0363   0.0444   0.0744   0.08     0.0456   0.0368    0.125\n",
            " 172 │  0.0179   0.0136   0.0408   0.0633   0.0596   0.0808   0.209    0.3465   0.5276    0.5965\n",
            " 173 │  0.018    0.0444   0.0476   0.0698   0.1615   0.0887   0.0596   0.1071   0.3175    0.2918   ⋯\n",
            " 174 │  0.0329   0.0216   0.0386   0.0627   0.1158   0.1482   0.2054   0.1605   0.2532    0.2672\n",
            " 175 │  0.0191   0.0173   0.0291   0.0301   0.0463   0.069    0.0576   0.1103   0.2423    0.3134\n",
            " 176 │  0.0294   0.0123   0.0117   0.0113   0.0497   0.0998   0.1326   0.1117   0.2984    0.3473\n",
            " 177 │  0.0635   0.0709   0.0453   0.0333   0.0185   0.126    0.1015   0.1918   0.3362    0.39     ⋯\n",
            " 178 │  0.0201   0.0165   0.0344   0.033    0.0397   0.0443   0.0684   0.0903   0.1739    0.2571\n",
            " 179 │  0.0197   0.0394   0.0384   0.0076   0.0251   0.0629   0.0747   0.0578   0.1357    0.1695\n",
            " 180 │  0.0394   0.042    0.0446   0.0551   0.0597   0.1416   0.0956   0.0802   0.1618    0.2558\n",
            " 181 │  0.031    0.0221   0.0433   0.0191   0.0964   0.1827   0.1106   0.1702   0.2804    0.4432   ⋯\n",
            " 182 │  0.0423   0.0321   0.0709   0.0108   0.107    0.0973   0.0961   0.1323   0.2462    0.2696\n",
            " 183 │  0.0095   0.0308   0.0539   0.0411   0.0613   0.1039   0.1016   0.1394   0.2592    0.3745\n",
            " 184 │  0.0096   0.0404   0.0682   0.0688   0.0887   0.0932   0.0955   0.214    0.2546    0.2952\n",
            " 185 │  0.0269   0.0383   0.0505   0.0707   0.1313   0.2103   0.2263   0.2524   0.3595    0.5915   ⋯\n",
            " 186 │  0.034    0.0625   0.0381   0.0257   0.0441   0.1027   0.1287   0.185    0.2647    0.4117\n",
            " 187 │  0.0209   0.0191   0.0411   0.0321   0.0698   0.1579   0.1438   0.1402   0.3048    0.3914\n",
            " 188 │  0.0368   0.0279   0.0103   0.0566   0.0759   0.0679   0.097    0.1473   0.2164    0.2544\n",
            " 189 │  0.0089   0.0274   0.0248   0.0237   0.0224   0.0845   0.1488   0.1224   0.1569    0.2119   ⋯\n",
            " 190 │  0.0158   0.0239   0.015    0.0494   0.0988   0.1425   0.1463   0.1219   0.1697    0.1923\n",
            " 191 │  0.0156   0.021    0.0282   0.0596   0.0462   0.0779   0.1365   0.078    0.1038    0.1567\n",
            " 192 │  0.0315   0.0252   0.0167   0.0479   0.0902   0.1057   0.1024   0.1209   0.1241    0.1533\n",
            " 193 │  0.0056   0.0267   0.0221   0.0561   0.0936   0.1146   0.0706   0.0996   0.1673    0.1859   ⋯\n",
            " 194 │  0.0203   0.0121   0.038    0.0128   0.0537   0.0874   0.1021   0.0852   0.1136    0.1747\n",
            " 195 │  0.0392   0.0108   0.0267   0.0257   0.041    0.0491   0.1053   0.169    0.2105    0.2471\n",
            " 196 │  0.0129   0.0141   0.0309   0.0375   0.0767   0.0787   0.0662   0.1108   0.1777    0.2245\n",
            " 197 │  0.005    0.0017   0.027    0.045    0.0958   0.083    0.0879   0.122    0.1977    0.2282   ⋯\n",
            " 198 │  0.0366   0.0421   0.0504   0.025    0.0596   0.0252   0.0958   0.0991   0.1419    0.1847\n",
            " 199 │  0.0238   0.0318   0.0422   0.0399   0.0788   0.0766   0.0881   0.1143   0.1594    0.2048\n",
            " 200 │  0.0116   0.0744   0.0367   0.0225   0.0076   0.0545   0.111    0.1069   0.1708    0.2271\n",
            " 201 │  0.0131   0.0387   0.0329   0.0078   0.0721   0.1341   0.1626   0.1902   0.261     0.3193   ⋯\n",
            " 202 │  0.0335   0.0258   0.0398   0.057    0.0529   0.1091   0.1709   0.1684   0.1865    0.266\n",
            " 203 │  0.0272   0.0378   0.0488   0.0848   0.1127   0.1103   0.1349   0.2337   0.3113    0.3997\n",
            " 204 │  0.0187   0.0346   0.0168   0.0177   0.0393   0.163    0.2028   0.1694   0.2328    0.2684\n",
            " 205 │  0.0323   0.0101   0.0298   0.0564   0.076    0.0958   0.099    0.1018   0.103     0.2154   ⋯\n",
            " 206 │  0.0522   0.0437   0.018    0.0292   0.0351   0.1171   0.1257   0.1178   0.1258    0.2529\n",
            " 207 │  0.0303   0.0353   0.049    0.0608   0.0167   0.1354   0.1465   0.1123   0.1945    0.2354\n",
            " 208 │  0.026    0.0363   0.0136   0.0272   0.0214   0.0338   0.0655   0.14     0.1843    0.2354\n",
            "\u001b[36m                                                                                  51 columns omitted\u001b[0m"
          ]
        }
      ]
    },
    {
      "cell_type": "markdown",
      "metadata": {
        "id": "8RC1QNNqk6h1"
      },
      "source": [
        "# Need Help?\n",
        "\n",
        "* Learning: https://julialang.org/learning/\n",
        "* Documentation: https://docs.julialang.org/\n",
        "* Questions & Discussions:\n",
        "  * https://discourse.julialang.org/\n",
        "  * http://julialang.slack.com/\n",
        "  * https://stackoverflow.com/questions/tagged/julia\n",
        "\n",
        "If you ever ask for help or file an issue about Julia, you should generally provide the output of `versioninfo()`."
      ]
    },
    {
      "cell_type": "markdown",
      "metadata": {
        "id": "2UMidUQB03vJ"
      },
      "source": [
        "Add new code cells by clicking the `+ Code` button (or _Insert_ > _Code cell_).\n",
        "\n",
        "Have fun!\n",
        "\n",
        "<img src=\"https://raw.githubusercontent.com/JuliaLang/julia-logo-graphics/master/images/julia-logo-mask.png\" height=\"100\" />"
      ]
    }
  ]
}